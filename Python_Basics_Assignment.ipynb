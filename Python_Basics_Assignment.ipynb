{
  "nbformat": 4,
  "nbformat_minor": 0,
  "metadata": {
    "colab": {
      "provenance": []
    },
    "kernelspec": {
      "name": "python3",
      "display_name": "Python 3"
    },
    "language_info": {
      "name": "python"
    }
  },
  "cells": [
    {
      "cell_type": "markdown",
      "source": [
        "# Theory Questions"
      ],
      "metadata": {
        "id": "Mboobbq7NqZX"
      }
    },
    {
      "cell_type": "markdown",
      "source": [
        "<!-- Theory Questions -->\n",
        "1. What is Python, and why is it popular?\n",
        "   \n",
        "\n",
        "*   Python is a high-level, interpreted programming language known for its readability and simplicity. It is widely used for web development, data analysis, automation, AI, and more.\n",
        "*   It is popular because it is widly used in the industry, Data industry, A lot of libraries, we can use Python for Frontend & Backend development, For automation, To interact with Databases.\n"
      ],
      "metadata": {
        "id": "mdYAh0ZhFRJ-"
      }
    },
    {
      "cell_type": "markdown",
      "source": [
        "2. What is an interpreter in Python?\n",
        "    \n",
        "\n",
        "* An interpreter in Python is a program that reads and executes Python code line by line.\n",
        "\n"
      ],
      "metadata": {
        "id": "PcPxRRBsH-9_"
      }
    },
    {
      "cell_type": "markdown",
      "source": [
        "3. What are pre-defined keywords in Python?\n",
        "\n",
        "\n",
        "*    Pre-defined keywords in Python are reserved words that have special meanings and cannot be used as identifiers like variable names. Examples include if, else, while, for, def, class, etc.\n",
        "\n"
      ],
      "metadata": {
        "id": "MOauKMa1IU3m"
      }
    },
    {
      "cell_type": "markdown",
      "source": [
        "4. Can keywords be used as variable names\n",
        "\n",
        "\n",
        "*   No, we can not use keywords name for defining variable names.\n",
        "\n"
      ],
      "metadata": {
        "id": "SPzQTNFIIpFg"
      }
    },
    {
      "cell_type": "markdown",
      "source": [
        "5. What is mutability in Python?\n",
        "\n",
        "\n",
        "*    Objects / Containers whose state or value can be changed after they are created are called as mutable object. This is the concept of mutability in Python. Python implements mutability with list & dictionarys.\n",
        "\n",
        "\n"
      ],
      "metadata": {
        "id": "lWfhWMYJI4fN"
      }
    },
    {
      "cell_type": "markdown",
      "source": [
        "6. Why are lists mutable, but tuples are immutable?\n",
        "\n",
        "\n",
        "*   Lists are mutable in Python because they are designed to allow modification. We can add, remove, or change elements. This makes them flexible for dynamic operations.\n",
        "*   Tuples onces created, their elements can't be changed,added or removed.\n",
        "\n"
      ],
      "metadata": {
        "id": "AH6ouOvYJYAu"
      }
    },
    {
      "cell_type": "markdown",
      "source": [
        "7. What is the difference between “==” and “is” operators in Python?\n",
        "\n",
        "\n",
        "*   The == operator checks if the values of two variables are equal, while the is operator checks if they refer to the same location in memory.\n",
        "\n"
      ],
      "metadata": {
        "id": "gyiCdQg6KOFX"
      }
    },
    {
      "cell_type": "markdown",
      "source": [
        "8. What are logical operators in Python?\n",
        "\n",
        "\n",
        "*   Logical operators in Python are used to combine conditional statements or Boolean expressions.\n",
        "*   and & or are logical operators in Python.\n",
        "\n"
      ],
      "metadata": {
        "id": "rdm4vdtTKcg9"
      }
    },
    {
      "cell_type": "markdown",
      "source": [
        "9. What is type casting in Python?\n",
        "\n",
        "\n",
        "*   Type casting in Python refers to converting one data type into another data type.\n",
        "\n"
      ],
      "metadata": {
        "id": "fMqgmS8mK5SQ"
      }
    },
    {
      "cell_type": "markdown",
      "source": [
        "10. What is the difference between implicit and explicit type casting?\n",
        "\n",
        "\n",
        "*   Implicit Type casting: Python automatically converts one data type to another when necessary.\n",
        "\n",
        "\n",
        "*   Explicit Type casting: The programmer explicitly converts a data type using built in functions like int(), float(), str(), list()\n",
        "\n"
      ],
      "metadata": {
        "id": "sD8Jxya9LF--"
      }
    },
    {
      "cell_type": "markdown",
      "source": [
        "11. What is the purpose of conditional statements in Python?\n",
        "\n",
        "\n",
        "*   The purpose of conditional statements is to help us make decisions based on some preconditions.\n",
        "\n"
      ],
      "metadata": {
        "id": "rsAZr5djL5BX"
      }
    },
    {
      "cell_type": "markdown",
      "source": [
        "12. How does the elif statement work?\n",
        "\n",
        "\n",
        "*   The elif statement in Python is used to check multiple conditions in sequence. If the condition in the if statement is False, Python will check the conditions in any elif statements in the order they appear. Once it finds a condition that evaluates to True, the corresponding block of code is executed.\n",
        "\n"
      ],
      "metadata": {
        "id": "a2sstaY0MZte"
      }
    },
    {
      "cell_type": "markdown",
      "source": [
        "13. What is the difference between for and while loops?\n",
        "\n",
        "\n",
        "*   for loop: It is used when the number of iterations is known. It iterates over a sequence (like a list, tuple, string, or range)\n",
        "\n",
        "*   while loop: Used when the number of iterations is unknown and depends on a condition that is evaluated before each iteration.It keeps executing as long as the specified condition is True.\n",
        "\n"
      ],
      "metadata": {
        "id": "jBloYXw4MyRB"
      }
    },
    {
      "cell_type": "markdown",
      "source": [
        "14.  Describe a scenario where a while loop is more suitable than a for loop.\n",
        "\n",
        "\n",
        "\n",
        "*  A while loop is more suitable when we don't know the exact number of iterations, but we want to repeat a task until a specific condition is satisfied.We can use for loops for iterating over a sequence of elements.\n",
        "\n"
      ],
      "metadata": {
        "id": "EVuTwpfpNUhP"
      }
    },
    {
      "cell_type": "code",
      "source": [],
      "metadata": {
        "id": "lRuLjW5eNj-c"
      },
      "execution_count": null,
      "outputs": []
    },
    {
      "cell_type": "markdown",
      "source": [
        "# Practical Questions"
      ],
      "metadata": {
        "id": "3hOBIqqpVjWl"
      }
    },
    {
      "cell_type": "code",
      "source": [
        "# 1. Write a Python program to print \"Hello, World!\n",
        "print(\"Hello, World!\")"
      ],
      "metadata": {
        "colab": {
          "base_uri": "https://localhost:8080/"
        },
        "id": "oFtmWmLdWKc6",
        "outputId": "56545f20-2eff-4558-e898-bb4a11d9f28b"
      },
      "execution_count": null,
      "outputs": [
        {
          "output_type": "stream",
          "name": "stdout",
          "text": [
            "Hello, World!\n"
          ]
        }
      ]
    },
    {
      "cell_type": "code",
      "source": [
        "# 2. Write a Python program that displays your name and age\n",
        "print(\"Name: Soumya Ranjan Barik, Age: 25\")"
      ],
      "metadata": {
        "colab": {
          "base_uri": "https://localhost:8080/"
        },
        "id": "toccBTKdWUjn",
        "outputId": "6342b035-904e-418b-cd70-0f783278f223"
      },
      "execution_count": 1,
      "outputs": [
        {
          "output_type": "stream",
          "name": "stdout",
          "text": [
            "Name: Soumya Ranjan Barik, Age: 25\n"
          ]
        }
      ]
    },
    {
      "cell_type": "code",
      "source": [
        "# 3. Write code to print all the pre-defined keywords in Python using the keyword library\n",
        "import keyword\n",
        "print(\"Python keywords\")\n",
        "print(keyword.kwlist)"
      ],
      "metadata": {
        "colab": {
          "base_uri": "https://localhost:8080/"
        },
        "id": "I3j2v3NFWf-u",
        "outputId": "de5864ba-f621-4033-c328-64a426563e49"
      },
      "execution_count": 2,
      "outputs": [
        {
          "output_type": "stream",
          "name": "stdout",
          "text": [
            "Python keywords\n",
            "['False', 'None', 'True', 'and', 'as', 'assert', 'async', 'await', 'break', 'class', 'continue', 'def', 'del', 'elif', 'else', 'except', 'finally', 'for', 'from', 'global', 'if', 'import', 'in', 'is', 'lambda', 'nonlocal', 'not', 'or', 'pass', 'raise', 'return', 'try', 'while', 'with', 'yield']\n"
          ]
        }
      ]
    },
    {
      "cell_type": "code",
      "source": [
        "# 4. Write a program that checks if a given word is a Python keyword.\n",
        "import keyword\n",
        "word = input(\"Enetr a word to check for keyword: \")\n",
        "\n",
        "if keyword.iskeyword(word):\n",
        "  print(f\"'{word}' it is a Python keyword...\")\n",
        "else:\n",
        "  print(f\"'{word}' it is not a Python keyword...'\")"
      ],
      "metadata": {
        "colab": {
          "base_uri": "https://localhost:8080/"
        },
        "id": "IGmEgFZKW6nP",
        "outputId": "a369f723-3156-4480-b885-3666e3d32bf9"
      },
      "execution_count": 3,
      "outputs": [
        {
          "output_type": "stream",
          "name": "stdout",
          "text": [
            "Enetr a word to check for keyword: heelo\n",
            "'heelo' it is not a Python keyword...'\n"
          ]
        }
      ]
    },
    {
      "cell_type": "code",
      "source": [
        "# 5.  Create a list and tuple in Python, and demonstrate how attempting to change an element works differently for each.\n",
        "_list = ['Apple','Banana','Orange']\n",
        "print(_list)\n",
        "_list[0] = \"Mango\" #It will changed the 0th index element from Apple to Mongo, Because lists are mutable\n",
        "print(_list)"
      ],
      "metadata": {
        "colab": {
          "base_uri": "https://localhost:8080/"
        },
        "id": "0mzlt0FlXi0w",
        "outputId": "c5eedf32-6d0a-4d5b-d532-5faeaf904a31"
      },
      "execution_count": null,
      "outputs": [
        {
          "output_type": "stream",
          "name": "stdout",
          "text": [
            "['Apple', 'Banana', 'Orange']\n",
            "['Mango', 'Banana', 'Orange']\n"
          ]
        }
      ]
    },
    {
      "cell_type": "code",
      "source": [
        "_tup = ('Apple','Banana','Orange')\n",
        "print(_tup)\n",
        "_tup[0] = \"Mongo\" #It will cause an error, because tuples are immutable, which means we can't modify a tuple's elements.\n",
        "print(_tup)"
      ],
      "metadata": {
        "colab": {
          "base_uri": "https://localhost:8080/",
          "height": 220
        },
        "id": "AwpBL7keX_Q3",
        "outputId": "7a7dd9a6-5d76-458c-f4c7-42c757a95cf6"
      },
      "execution_count": null,
      "outputs": [
        {
          "output_type": "stream",
          "name": "stdout",
          "text": [
            "('Apple', 'Banana', 'Orange')\n"
          ]
        },
        {
          "output_type": "error",
          "ename": "TypeError",
          "evalue": "'tuple' object does not support item assignment",
          "traceback": [
            "\u001b[0;31m---------------------------------------------------------------------------\u001b[0m",
            "\u001b[0;31mTypeError\u001b[0m                                 Traceback (most recent call last)",
            "\u001b[0;32m<ipython-input-11-364b291ba473>\u001b[0m in \u001b[0;36m<cell line: 0>\u001b[0;34m()\u001b[0m\n\u001b[1;32m      1\u001b[0m \u001b[0m_tup\u001b[0m \u001b[0;34m=\u001b[0m \u001b[0;34m(\u001b[0m\u001b[0;34m'Apple'\u001b[0m\u001b[0;34m,\u001b[0m\u001b[0;34m'Banana'\u001b[0m\u001b[0;34m,\u001b[0m\u001b[0;34m'Orange'\u001b[0m\u001b[0;34m)\u001b[0m\u001b[0;34m\u001b[0m\u001b[0;34m\u001b[0m\u001b[0m\n\u001b[1;32m      2\u001b[0m \u001b[0mprint\u001b[0m\u001b[0;34m(\u001b[0m\u001b[0m_tup\u001b[0m\u001b[0;34m)\u001b[0m\u001b[0;34m\u001b[0m\u001b[0;34m\u001b[0m\u001b[0m\n\u001b[0;32m----> 3\u001b[0;31m \u001b[0m_tup\u001b[0m\u001b[0;34m[\u001b[0m\u001b[0;36m0\u001b[0m\u001b[0;34m]\u001b[0m \u001b[0;34m=\u001b[0m \u001b[0;34m\"Mongo\"\u001b[0m\u001b[0;34m\u001b[0m\u001b[0;34m\u001b[0m\u001b[0m\n\u001b[0m\u001b[1;32m      4\u001b[0m \u001b[0mprint\u001b[0m\u001b[0;34m(\u001b[0m\u001b[0m_tup\u001b[0m\u001b[0;34m)\u001b[0m\u001b[0;34m\u001b[0m\u001b[0;34m\u001b[0m\u001b[0m\n",
            "\u001b[0;31mTypeError\u001b[0m: 'tuple' object does not support item assignment"
          ]
        }
      ]
    },
    {
      "cell_type": "code",
      "source": [
        "# 6. Write a function to demonstrate the behavior of mutable and immutable arguments.\n",
        "def arg_modifier(a,b):\n",
        "  a+=10\n",
        "  b.append(\"hello\")\n",
        "\n",
        "x = 10\n",
        "y = [1,2,3]\n",
        "\n",
        "print(f\"x value before {x}\")\n",
        "print(f\"y value before {y}\")\n",
        "\n",
        "arg_modifier(x,y)\n",
        "\n",
        "print(f\"x value after func call {x}\")\n",
        "print(f\"y value afetr fucn call {y}\")"
      ],
      "metadata": {
        "colab": {
          "base_uri": "https://localhost:8080/"
        },
        "id": "VU_yHJrUYdQp",
        "outputId": "4022eab0-d4ed-4553-d63d-ba70b0034ed6"
      },
      "execution_count": null,
      "outputs": [
        {
          "output_type": "stream",
          "name": "stdout",
          "text": [
            "x value before 10\n",
            "y value before [1, 2, 3]\n",
            "x value after func call 10\n",
            "y value afetr fucn call [1, 2, 3, 'hello']\n"
          ]
        }
      ]
    },
    {
      "cell_type": "code",
      "source": [
        "# 7. Write a program that performs basic arithmetic operations on two user-input numbers\n",
        "num1 = int(input(\"Enter 1st Number: \"))\n",
        "num2 = int(input(\"Enter 2nd Number: \"))\n",
        "\n",
        "def addition(n1,n2):\n",
        "  print(f\"{n1} + {n2} = {n1+n2}\")\n",
        "\n",
        "addition(num1,num2)\n",
        "\n",
        "def multiplication(n1,n2):\n",
        "  print(f\"{n1} * {n2} = {n1*n2}\")\n",
        "\n",
        "multiplication(num1,num2)\n",
        "\n",
        "def subtraction(n1,n2):\n",
        "  print(f\"{n1} - {n2} = {n1-n2}\")\n",
        "\n",
        "subtraction(num1,num2)\n",
        "\n",
        "def division(n1,n2):\n",
        "  if(n2 == 0):\n",
        "    print(\"Division by zero is not allowed.\")\n",
        "  else:\n",
        "    print(f\"{n1} / {n2} = {n1/n2}\")\n",
        "\n",
        "division(num1,num2)"
      ],
      "metadata": {
        "colab": {
          "base_uri": "https://localhost:8080/"
        },
        "id": "8N4Iclvsac6v",
        "outputId": "c405bf70-4cc4-45f9-c572-52053dd5646a"
      },
      "execution_count": null,
      "outputs": [
        {
          "output_type": "stream",
          "name": "stdout",
          "text": [
            "Enter 1st Number: 40\n",
            "Enter 2nd Number: 0\n",
            "40 + 0 = 40\n",
            "40 * 0 = 0\n",
            "40 - 0 = 40\n",
            "Division by zero is not allowed.\n"
          ]
        }
      ]
    },
    {
      "cell_type": "code",
      "source": [
        "# 8. Write a program to demonstrate the use of logical operators.\n",
        "# Logical 'and'\n",
        "age = int(input(\"Enter your age: \"))\n",
        "has_id = input(\"Do you have a driving license? (yes or no): \").strip().lower()\n",
        "\n",
        "def verify(age,id):\n",
        "  if(age >= 18 and has_id == \"yes\"):\n",
        "    print(\"You can drive the car...🚗\")\n",
        "  else:\n",
        "    print(\"You can't drive the car...🚫\")\n",
        "\n",
        "verify(age,has_id)\n",
        "\n",
        "# Here logical \"and\" checks if both the conditions are true it will execute the if block of code."
      ],
      "metadata": {
        "colab": {
          "base_uri": "https://localhost:8080/"
        },
        "id": "VTGYXH3sblUY",
        "outputId": "eeb72772-b931-4cce-c8e1-1ed3023d773f"
      },
      "execution_count": null,
      "outputs": [
        {
          "output_type": "stream",
          "name": "stdout",
          "text": [
            "Enter your age: 25\n",
            "Do you have a driving license? (yes or no): yes\n",
            "You can drive the car...🚗\n"
          ]
        }
      ]
    },
    {
      "cell_type": "code",
      "source": [
        "# Logical 'or'\n",
        "\n",
        "age = int(input(\"Enter your age: \"))\n",
        "has_id = input(\"Do you have a driving license? (yes or no): \").strip().lower()\n",
        "\n",
        "def verify_with_or(age, id):\n",
        "    if age >= 18 or id == \"yes\":\n",
        "        print(\"You are likely eligible to drive... 🚗\")\n",
        "    else:\n",
        "        print(\"You can't drive the car... 🚫\")\n",
        "\n",
        "verify_with_or(age, has_id)\n",
        "\n",
        "# The logical \"or\" operator checks if at least one condition is true if so, it executes the if block of code.\n"
      ],
      "metadata": {
        "colab": {
          "base_uri": "https://localhost:8080/"
        },
        "id": "d8hkE_VAebM6",
        "outputId": "f8927a06-328e-4407-fb97-cbd1b91c74bb"
      },
      "execution_count": null,
      "outputs": [
        {
          "output_type": "stream",
          "name": "stdout",
          "text": [
            "Enter your age: 16\n",
            "Do you have a driving license? (yes or no): no\n",
            "You can't drive the car... 🚫\n"
          ]
        }
      ]
    },
    {
      "cell_type": "code",
      "source": [
        "# 9. Write a Python program to convert user input from string to integer, float, and boolean types.\n",
        "user_input = input(\"Enter a value\")\n",
        "def string_to_integer(value):\n",
        "    if value.isdigit():\n",
        "        print(\"String to Integer:\", int(value))\n",
        "    else:\n",
        "        print(\"Cannot convert to Integer.\")\n",
        "\n",
        "def string_to_float(value):\n",
        "    if '.' in value and value.replace('.', '', 1).isdigit():\n",
        "        print(\"String to Float:\", float(value))\n",
        "    else:\n",
        "        print(\"Cannot convert to Float.\")\n",
        "\n",
        "def string_to_boolean(value):\n",
        "    print(\"String to Boolean:\", bool(value.strip()))\n",
        "\n",
        "\n",
        "string_to_integer(user_input)\n",
        "string_to_float(user_input)\n",
        "string_to_boolean(user_input)\n",
        "\n"
      ],
      "metadata": {
        "colab": {
          "base_uri": "https://localhost:8080/"
        },
        "id": "Da-0ZafBgqcw",
        "outputId": "a4ebcf62-03e3-413e-fef0-1232661204df"
      },
      "execution_count": null,
      "outputs": [
        {
          "output_type": "stream",
          "name": "stdout",
          "text": [
            "Enter a value3.14\n",
            "Cannot convert to Integer.\n",
            "String to Float: 3.14\n",
            "String to Boolean: True\n"
          ]
        }
      ]
    },
    {
      "cell_type": "code",
      "source": [
        "# 10. Write code to demonstrate type casting with list elements.\n",
        "\n",
        "str_list = [\"10\", \"20.5\", \"True\", \"0\", \"False\"]\n",
        "\n",
        "\n",
        "int_list = [int(i) if i.isdigit() else 0 for i in str_list]  # Default to 0 if not an integer\n",
        "float_list = [float(i) if '.' in i or i.replace('.', '', 1).isdigit() else 0.0 for i in str_list]\n",
        "bool_list = [bool(i.strip()) for i in str_list]\n",
        "\n",
        "# Output results\n",
        "print(\"Original List:\", str_list)\n",
        "print(\"List after integer type casting:\", int_list)\n",
        "print(\"List after float type casting:\", float_list)\n",
        "print(\"List after boolean type casting:\", bool_list)"
      ],
      "metadata": {
        "colab": {
          "base_uri": "https://localhost:8080/"
        },
        "id": "6shX48fdh23f",
        "outputId": "202e20e6-475c-4237-d4aa-b25996d9cfc7"
      },
      "execution_count": null,
      "outputs": [
        {
          "output_type": "stream",
          "name": "stdout",
          "text": [
            "Original List: ['10', '20.5', 'True', '0', 'False']\n",
            "List after integer type casting: [10, 0, 0, 0, 0]\n",
            "List after float type casting: [10.0, 20.5, 0.0, 0.0, 0.0]\n",
            "List after boolean type casting: [True, True, True, True, True]\n"
          ]
        }
      ]
    },
    {
      "cell_type": "code",
      "source": [
        "# 11. Write a program that checks if a number is positive, negative, or zero.\n",
        "number = int(input(\"Enter a number: \"))\n",
        "\n",
        "def check_num(value):\n",
        "  if(value == 0):\n",
        "    print(\"value is 0.\")\n",
        "  elif(value < 0):\n",
        "    print(\"value is a negative number.\")\n",
        "  else:\n",
        "    print(\"value is a positive number.\")\n",
        "\n",
        "check_num(number)"
      ],
      "metadata": {
        "colab": {
          "base_uri": "https://localhost:8080/"
        },
        "id": "hdzyPVxQkDvB",
        "outputId": "3b60a4b9-81d4-424c-97fe-d583252e0f95"
      },
      "execution_count": null,
      "outputs": [
        {
          "output_type": "stream",
          "name": "stdout",
          "text": [
            "Enter a number: 154\n",
            "value is a positive number.\n"
          ]
        }
      ]
    },
    {
      "cell_type": "code",
      "source": [
        "# 12. Write a for loop to print numbers from 1 to 10\n",
        "for i in range(1,11):\n",
        "  print(i,end=\" \")"
      ],
      "metadata": {
        "colab": {
          "base_uri": "https://localhost:8080/"
        },
        "id": "GRdZKmT-lhWI",
        "outputId": "e463f414-1a57-430c-ce3d-84a5bfce140b"
      },
      "execution_count": null,
      "outputs": [
        {
          "output_type": "stream",
          "name": "stdout",
          "text": [
            "1 2 3 4 5 6 7 8 9 10 "
          ]
        }
      ]
    },
    {
      "cell_type": "code",
      "source": [
        "# 13. Write a Python program to find the sum of all even numbers between 1 and 50.\n",
        "result = 0\n",
        "for i in range(2,51,2):\n",
        "  result += i\n",
        "\n",
        "print(\"Sum of all even numbers between 1 and 50:\", result)"
      ],
      "metadata": {
        "colab": {
          "base_uri": "https://localhost:8080/"
        },
        "id": "xF9hvPCHlvyA",
        "outputId": "a5acf05f-9ff7-4535-e5c0-f8abf8e53aa8"
      },
      "execution_count": null,
      "outputs": [
        {
          "output_type": "stream",
          "name": "stdout",
          "text": [
            "Sum of all even numbers between 1 and 50: 650\n"
          ]
        }
      ]
    },
    {
      "cell_type": "code",
      "source": [
        "# 14. Write a program to reverse a string using a while loop.\n",
        "string = input(\"Enter a string: \")\n",
        "\n",
        "reversed_string = \"\"\n",
        "index = len(string) - 1\n",
        "\n",
        "while index >= 0:\n",
        "    reversed_string += string[index]\n",
        "    index -= 1\n",
        "\n",
        "print(\"Reversed String:\", reversed_string)\n"
      ],
      "metadata": {
        "colab": {
          "base_uri": "https://localhost:8080/"
        },
        "id": "VXKOkZCFmFF5",
        "outputId": "82841770-dfd1-47b2-c4d7-42ca2a477b9c"
      },
      "execution_count": null,
      "outputs": [
        {
          "output_type": "stream",
          "name": "stdout",
          "text": [
            "Enter a string: hello\n",
            "Reversed String: olleh\n"
          ]
        }
      ]
    },
    {
      "cell_type": "code",
      "source": [
        "# 15. Write a Python program to calculate the factorial of a number provided by the user using a while loop\n",
        "\n",
        "number = int(input(\"Enter a number to find factorial: \"))\n",
        "result = 1\n",
        "i = 2\n",
        "while i <= number:\n",
        "  result *= i\n",
        "  i += 1\n",
        "\n",
        "print(f\"Factorial of {number} = {result}\")"
      ],
      "metadata": {
        "colab": {
          "base_uri": "https://localhost:8080/"
        },
        "id": "W_RoMFhom3Vp",
        "outputId": "474cadfb-d1de-49b7-db0e-faf020905390"
      },
      "execution_count": null,
      "outputs": [
        {
          "output_type": "stream",
          "name": "stdout",
          "text": [
            "Enter a number to find factorial: 60\n",
            "Factorial of 60 = 8320987112741390144276341183223364380754172606361245952449277696409600000000000000\n"
          ]
        }
      ]
    },
    {
      "cell_type": "code",
      "source": [],
      "metadata": {
        "id": "v9ki5vsFnZac"
      },
      "execution_count": null,
      "outputs": []
    }
  ]
}