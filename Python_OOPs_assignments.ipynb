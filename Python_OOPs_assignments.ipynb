{
  "nbformat": 4,
  "nbformat_minor": 0,
  "metadata": {
    "colab": {
      "provenance": []
    },
    "kernelspec": {
      "name": "python3",
      "display_name": "Python 3"
    },
    "language_info": {
      "name": "python"
    }
  },
  "cells": [
    {
      "cell_type": "markdown",
      "source": [
        "# Theory Questions"
      ],
      "metadata": {
        "id": "ILa7yAHdWaL_"
      }
    },
    {
      "cell_type": "markdown",
      "source": [
        "1. What is Object-Oriented Programming (OOP)?\n",
        "*  Object-Oriented Programming (OOP) is a programming style that organizes code using objects, which are instances of classes. It helps in structuring programs so they are easy to manage and reuse."
      ],
      "metadata": {
        "id": "abVlZURMLBfE"
      }
    },
    {
      "cell_type": "markdown",
      "source": [
        "2. What is a class in OOP?\n",
        "*  A class in OOP is a blueprint or template for creating an object. It defines the properties and methods that will be present in the objects created from it."
      ],
      "metadata": {
        "id": "I8B8UU_pLwV-"
      }
    },
    {
      "cell_type": "code",
      "source": [
        "# Example of a class\n",
        "class Student: #this is a class Student\n",
        "  def __init__(self,roll_number,name):\n",
        "    self.roll_number = roll_number\n",
        "    self.name = name\n",
        "  def display_details(self): #this is a method of the class\n",
        "    print(f\"Roll Number: {self.roll_number}\")\n",
        "    print(f\"Name: {self.name}\")"
      ],
      "metadata": {
        "id": "y-X1CpZ9Od55"
      },
      "execution_count": null,
      "outputs": []
    },
    {
      "cell_type": "markdown",
      "source": [
        "3. What is an object in OOP?\n",
        "*  An object in OOP is an instance of a class. It represents a real-world entity that has state (data/properties) and behavior (methods/functions)."
      ],
      "metadata": {
        "id": "yvIF2cBnOCOQ"
      }
    },
    {
      "cell_type": "code",
      "source": [
        "# Creating an object/instance from the above class Student\n",
        "student1 = Student(101,\"Soumya RB\") #This is an object/instance of the class Student\n",
        "student2 = Student(102,\"Ritik Ghosh\")#This is an object/instance of the class Student\n",
        "student1.display_details() #accessing the class method display_details\n",
        "student2.display_details()"
      ],
      "metadata": {
        "colab": {
          "base_uri": "https://localhost:8080/"
        },
        "id": "H8ZbDULsO15b",
        "outputId": "dd16dfd3-11b8-4501-89b7-4788893aaaf4"
      },
      "execution_count": null,
      "outputs": [
        {
          "output_type": "stream",
          "name": "stdout",
          "text": [
            "Roll Number: 101\n",
            "Name: Soumya RB\n",
            "Roll Number: 102\n",
            "Name: Ritik Ghosh\n"
          ]
        }
      ]
    },
    {
      "cell_type": "markdown",
      "source": [
        "4. What is the difference between abstraction and encapsulation?\n",
        "*  **Abstraction**: Abstraction is the concept of hiding complex implementation details and showing only the necessary features of an object. It helps reduce complexity by focusing on what an object does rather than how it does it.\n",
        "*  **Encapsulation**: Encapsulation is the technique of bundling data (variables) and methods (functions) that operate on that data into a single unit, usually a class. It also involves restricting direct access to some components using access modifiers like private, ensuring data security and preventing unintended interference."
      ],
      "metadata": {
        "id": "oUDF6fscPTvZ"
      }
    },
    {
      "cell_type": "markdown",
      "source": [
        "5. What are dunder methods in Python?\n",
        "*  d + under: d stands for duble and under stands for double underscore(__)\n",
        "*  Dunder/Magic/Special methods in Python are special built in methods with names that start and end with double underscores, like __init__, __str__, or __repr__. They allow us to define how objects of a class behave with built in Python operations such as creating objects, printing them, or using operators like +."
      ],
      "metadata": {
        "id": "9iktVsXAP8vi"
      }
    },
    {
      "cell_type": "markdown",
      "source": [
        "6.  Explain the concept of inheritance in OOP.\n",
        "*  Inheritance in OOP is a way to create a new class called a child or subclass based on an existing class called a parent or superclass. The child class automatically gets the properties and methods of the parent class, allowing code reuse and making it easier to create and maintain related classes."
      ],
      "metadata": {
        "id": "nEGTFx1AQkTz"
      }
    },
    {
      "cell_type": "markdown",
      "source": [
        "7. What is polymorphism in OOP?\n",
        "*  Poly means many and morphism means form/state\n",
        "*  Polymorphism allows objects of different classes to be treated as objects of a common superclass, especially when they share methods with the same name but different implementations."
      ],
      "metadata": {
        "id": "Vqe-rMAWQ1Ox"
      }
    },
    {
      "cell_type": "markdown",
      "source": [
        "8. How is encapsulation achieved in Python?\n",
        "*  Encapsulation in Python is achieved by restricting access to an object’s internal data and controlling how that data is accessed or modified. This is done by\n",
        "  *  Prefixing an attribute or method with a single underscore _(protected)\n",
        "  *  Prefixing an attribute or method with a double underscore __(private)"
      ],
      "metadata": {
        "id": "4La7bQSdROdZ"
      }
    },
    {
      "cell_type": "code",
      "source": [
        "# Example of encapsulation\n",
        "class BankAccount:\n",
        "    def __init__(self, balance,pin):\n",
        "        self.__balance = balance  # This is Private attribute\n",
        "        self._pin = pin #This is Protected attribute"
      ],
      "metadata": {
        "id": "OMS4nuJJRjJj"
      },
      "execution_count": null,
      "outputs": []
    },
    {
      "cell_type": "markdown",
      "source": [
        "9. What is a constructor in Python?\n",
        "*  A constructor in Python is a special method named __init__ that is automatically called when we create a new object from a class. It’s used to initialize the object’s attributes with values."
      ],
      "metadata": {
        "id": "BraFUy6mSb2z"
      }
    },
    {
      "cell_type": "markdown",
      "source": [
        "10. What are class and static methods in Python?\n",
        "*  Class methods use the @classmethod decorator and take the class (cls) as the first argument, allowing them to access or modify class-level data. Static methods use the @staticmethod decorator, don’t take self or cls, and act like regular functions grouped inside a class for organization."
      ],
      "metadata": {
        "id": "AKP2ZAp3SoQJ"
      }
    },
    {
      "cell_type": "markdown",
      "source": [
        "11. What is method overloading in Python?\n",
        "*  Method overloading means having multiple methods with the same name but different parameters in the same class. However, Python doesn’t support true method overloading like some other languages. Instead, we achieve similar behavior by using default arguments or checking argument types within a single method."
      ],
      "metadata": {
        "id": "uRO1AKz0S2Wh"
      }
    },
    {
      "cell_type": "markdown",
      "source": [
        "12. What is method overriding in OOP?\n",
        "*  Method overriding in OOP happens when a child class provides its own version of a method that is already defined in its parent class. This lets us change or extend the behavior of that method for the child class while keeping the same method name. It’s useful for customizing functionality in subclasses."
      ],
      "metadata": {
        "id": "NRRYfevlTLT4"
      }
    },
    {
      "cell_type": "markdown",
      "source": [
        "13. What is a property decorator in Python?\n",
        "*  The @property decorator in Python allows us to define a method that behaves like an attribute. It lets us access a method like a regular attribute, enabling controlled access to private variables without needing explicit getter methods. It helps keep code clean and readable."
      ],
      "metadata": {
        "id": "N1J8Efc_TWZy"
      }
    },
    {
      "cell_type": "markdown",
      "source": [
        "14. Why is polymorphism important in OOP?\n",
        "*  Polymorphism is important in OOP because it allows us to use a single interface to work with different types of objects. This makes our code more flexible, reusable, and easier to maintain, as we can write general code that works with many object types without worrying about their specific implementations."
      ],
      "metadata": {
        "id": "snJL0CdwThYQ"
      }
    },
    {
      "cell_type": "markdown",
      "source": [
        "15. What is an abstract class in Python?\n",
        "*  An abstract class in Python is a class that cannot be instantiated on its own and is meant to be a blueprint for other classes. It can include one or more abstract methods declared but not implemented that subclasses must override. We use abstract classes to define a common interface for related classes while forcing them to provide specific implementations."
      ],
      "metadata": {
        "id": "4SzCQqywTrr6"
      }
    },
    {
      "cell_type": "markdown",
      "source": [
        "16. What are the advantages of OOP?\n",
        "*  Advantages of OOP are\n",
        "  *  Modularity: Code is organized into classes, making it easier to manage and understand.\n",
        "  *  Reusability: We can reuse existing classes through inheritance\n",
        "  *  Scalability: It’s easier to build and maintain large programs by breaking them into objects.\n",
        "  *  Maintainability: Changes in one part of the code have minimal impact on others due to encapsulation.\n",
        "  *  Flexibility: Polymorphism allows us to use the same interface for different data types, making code more adaptable."
      ],
      "metadata": {
        "id": "AqoqyxFNUEUp"
      }
    },
    {
      "cell_type": "markdown",
      "source": [
        "17. What is the difference between a class variable and an instance variable?\n",
        "*  A class variable is shared by all instances of a class—there’s only one copy, and changes affect every object. An instance variable is unique to each object, storing data specific to that particular instance.\n",
        "*  class variables belong to the class, instance variables belong to the individual objects."
      ],
      "metadata": {
        "id": "U-8NQ0grUhwx"
      }
    },
    {
      "cell_type": "markdown",
      "source": [
        "18. What is multiple inheritance in Python?\n",
        "*  Multiple inheritance in Python means a class can inherit from more than one parent class. This allows the child class to combine and reuse features from multiple classes in a single class."
      ],
      "metadata": {
        "id": "klNoeR1mUwlh"
      }
    },
    {
      "cell_type": "markdown",
      "source": [
        "19. Explain the purpose of ‘’__str__’ and ‘__repr__’ ‘ methods in Python.\n",
        "*  The __str__ method in Python defines the human-readable string representation of an object, used by print() and str().\n",
        "*  The __repr__ method provides an official string representation meant for developers, useful for debugging and ideally showing how to recreate the object."
      ],
      "metadata": {
        "id": "n6IHnioPU55Z"
      }
    },
    {
      "cell_type": "markdown",
      "source": [
        "20. What is the significance of the ‘super()’ function in Python?\n",
        "*  The super() function in Python is used to call a method from a parent class inside a child class. It helps us reuse and extend the functionality of the parent without explicitly naming it, making code easier to maintain and supporting multiple inheritance."
      ],
      "metadata": {
        "id": "E_0_uk89VJ_Z"
      }
    },
    {
      "cell_type": "markdown",
      "source": [
        "21. What is the significance of the __del__ method in Python?\n",
        "*  The __del__ method in Python is a destructor that is called when an object is about to be destroyed or garbage collected. It allows us to clean up resources, like closing files or releasing memory, before the object is removed from memory."
      ],
      "metadata": {
        "id": "IBZ47qDJVVxZ"
      }
    },
    {
      "cell_type": "markdown",
      "source": [
        "22. What is the difference between @staticmethod and @classmethod in Python?\n",
        "*  A static method doesn’t take self or cls as the first argument and can’t access instance or class data. It behaves like a regular function inside the class.\n",
        "*  A class method takes cls (the class) as the first argument and can access or modify class level data."
      ],
      "metadata": {
        "id": "MGIwEmRdVhLq"
      }
    },
    {
      "cell_type": "markdown",
      "source": [
        "23. How does polymorphism work in Python with inheritance?\n",
        "*  Polymorphism in Python with inheritance works by allowing a child class to override a method defined in its parent class. When we call that method on an object, Python uses the child class’s version if it exists, even if the object is referenced as the parent type. This lets us write flexible code that can work with different object types through a common interface."
      ],
      "metadata": {
        "id": "V_s5bQxoVuqh"
      }
    },
    {
      "cell_type": "markdown",
      "source": [
        "24. What is method chaining in Python OOP?\n",
        "*  Method chaining in Python OOP is a technique where we call multiple methods on the same object in a single line, one after another. For this to work, each method returns the object itself (self), allowing the next method to be called immediately."
      ],
      "metadata": {
        "id": "CU6pEYFNV78a"
      }
    },
    {
      "cell_type": "markdown",
      "source": [
        "25.  What is the purpose of the __call__ method in Python?\n",
        "*  The __call__ method in Python lets an instance of a class be called like a function. When we use parentheses () on an object, Python runs its __call__ method, allowing the object to behave like a callable."
      ],
      "metadata": {
        "id": "lvzZcfP7WFza"
      }
    },
    {
      "cell_type": "markdown",
      "source": [
        "# Practical Questions"
      ],
      "metadata": {
        "id": "pjE8pVX2WUFx"
      }
    },
    {
      "cell_type": "code",
      "source": [
        "# 1.Create a parent class Animal with a method speak() that prints a generic message. Create a child class Dog\n",
        "# that overrides the speak() method to print \"Bark!\".\n",
        "class Animal:\n",
        "    def speak(self):\n",
        "        print(\"Generic animal sound\")\n",
        "\n",
        "class Dog(Animal):\n",
        "    def speak(self):\n",
        "        print(\"Bark!\")\n",
        "\n",
        "animal = Animal()\n",
        "animal.speak()\n",
        "\n",
        "german_shepherd = Dog()\n",
        "german_shepherd.speak()"
      ],
      "metadata": {
        "colab": {
          "base_uri": "https://localhost:8080/"
        },
        "id": "jXFQeqgQWg-p",
        "outputId": "60bcf282-57e8-4fc2-8938-63a836808eaf"
      },
      "execution_count": null,
      "outputs": [
        {
          "output_type": "stream",
          "name": "stdout",
          "text": [
            "Generic animal sound\n",
            "Bark!\n"
          ]
        }
      ]
    },
    {
      "cell_type": "code",
      "source": [
        "# 2. Write a program to create an abstract class Shape with a method area(). Derive classes Circle and Rectangle\n",
        "# from it and implement the area() method in both.\n",
        "from abc import ABC, abstractmethod\n",
        "\n",
        "class Shape(ABC):\n",
        "    @abstractmethod\n",
        "    def area(self):\n",
        "        pass\n",
        "\n",
        "class Circle(Shape):\n",
        "    def __init__(self, radius):\n",
        "        self.radius = radius\n",
        "\n",
        "    def area(self):\n",
        "        return 3.14 * (self.radius ** 2)\n",
        "\n",
        "class Rectangle(Shape):\n",
        "    def __init__(self, length, width):\n",
        "        self.length = length\n",
        "        self.width = width\n",
        "\n",
        "    def area(self):\n",
        "        return self.length * self.width\n",
        "\n",
        "circle = Circle(5)\n",
        "rectangle = Rectangle(4, 6)\n",
        "\n",
        "print(f\"Area of circle: {circle.area():.2f}\")\n",
        "print(f\"Area of rectangle: {rectangle.area()}\")"
      ],
      "metadata": {
        "colab": {
          "base_uri": "https://localhost:8080/"
        },
        "id": "bVILgefwN0ur",
        "outputId": "e116697f-c46c-47b1-bb24-70e038637ce3"
      },
      "execution_count": null,
      "outputs": [
        {
          "output_type": "stream",
          "name": "stdout",
          "text": [
            "Area of circle: 78.50\n",
            "Area of rectangle: 24\n"
          ]
        }
      ]
    },
    {
      "cell_type": "code",
      "source": [
        "# 3.Implement a multi-level inheritance scenario where a class Vehicle has an attribute type. Derive a class Car\n",
        "# and further derive a class ElectricCar that adds a battery attribute.\n",
        "\n",
        "class Vehicle:\n",
        "  def __init__(self,type):\n",
        "    self.vehicle_type = type\n",
        "\n",
        "  def display_info(self):\n",
        "    print(f\"Vehicle Type: {self.vehicle_type}\")\n",
        "\n",
        "\n",
        "class Car(Vehicle):\n",
        "   def __init__(self, vehicle_type, company):\n",
        "        super().__init__(vehicle_type)\n",
        "        self.car_company = company\n",
        "\n",
        "   def display_info(self):\n",
        "        super().display_info()\n",
        "        print(f\"Company Name: {self.car_company}\")\n",
        "\n",
        "class ElectricCar(Car):\n",
        "    def __init__(self, vehicle_type, car_company, battery_capacity):\n",
        "        super().__init__(vehicle_type, car_company)\n",
        "        self.battery_capacity = battery_capacity\n",
        "\n",
        "    def display_info(self):\n",
        "        super().display_info()\n",
        "        print(f\"Battery Capacity: {self.battery_capacity} kWh\")\n",
        "\n",
        "car_obj = ElectricCar(\"Car\", \"Tata\", 75)\n",
        "car_obj.display_info()"
      ],
      "metadata": {
        "colab": {
          "base_uri": "https://localhost:8080/"
        },
        "id": "cjXl431uNpoU",
        "outputId": "ec938212-7394-4bfe-c8a3-94d76cc45e51"
      },
      "execution_count": null,
      "outputs": [
        {
          "output_type": "stream",
          "name": "stdout",
          "text": [
            "Vehicle Type: Car\n",
            "Company Name: Tata\n",
            "Battery Capacity: 75 kWh\n"
          ]
        }
      ]
    },
    {
      "cell_type": "code",
      "source": [
        "# 4.Demonstrate polymorphism by creating a base class Bird with a method fly(). Create two derived classes\n",
        "# Sparrow and Penguin that override the fly() method.\n",
        "\n",
        "class Bird:\n",
        "  def fly(self):\n",
        "    print(\"Birld is flying high...\")\n",
        "\n",
        "class Sparrow(Bird):\n",
        "  def fly(self):\n",
        "    print(\"Sparrow is flying high...\")\n",
        "\n",
        "class Penguin(Bird):\n",
        "  def fly(self):\n",
        "    print(\"Penguin🐧: Sorry I can't fly\")\n",
        "\n",
        "bird1 = Sparrow()\n",
        "bird2 = Penguin()\n",
        "\n",
        "birds = [bird1,bird2]\n",
        "\n",
        "for bird in birds:\n",
        "  bird.fly() #Here the same fly method taking different form and also override the Bird fly method."
      ],
      "metadata": {
        "colab": {
          "base_uri": "https://localhost:8080/"
        },
        "id": "4RaxPcf8PwvN",
        "outputId": "7f45f16a-9570-47b7-dd28-32ba6b55a16a"
      },
      "execution_count": null,
      "outputs": [
        {
          "output_type": "stream",
          "name": "stdout",
          "text": [
            "Sparrow is flying high...\n",
            "Penguin🐧: Sorry I can't fly\n"
          ]
        }
      ]
    },
    {
      "cell_type": "code",
      "source": [
        "# 5.Write a program to demonstrate encapsulation by creating a class BankAccount with private attributes\n",
        "# balance and methods to deposit, withdraw, and check balance.\n",
        "\n",
        "class BankAccount:\n",
        "  def __init__(self,balance):\n",
        "    self.__balance = balance\n",
        "\n",
        "  def check_balance(self):\n",
        "    return f\"Current balance: {self.__balance}\"\n",
        "\n",
        "  def deposit(self,amount):\n",
        "    self.__balance += amount\n",
        "    return f\"Updated balance: {self.__balance}\"\n",
        "\n",
        "  def withdraw(self,amount):\n",
        "    if amount <= self.__balance:\n",
        "      self.__balance -= amount\n",
        "      return f\"Updated balance: {self.__balance}\"\n",
        "    else:\n",
        "      return \"Insufficient fund\"\n",
        "\n",
        "customer1 = BankAccount(2000)\n",
        "print(customer1.check_balance())\n",
        "print(customer1.deposit(1000))\n",
        "print(customer1.withdraw(500))"
      ],
      "metadata": {
        "colab": {
          "base_uri": "https://localhost:8080/"
        },
        "id": "l5DYu5bHRyQc",
        "outputId": "db2366ca-369e-4ea5-cb19-15fa547e1b71"
      },
      "execution_count": null,
      "outputs": [
        {
          "output_type": "stream",
          "name": "stdout",
          "text": [
            "Current balance: 2000\n",
            "Updated balance: 3000\n",
            "Updated balance: 2500\n"
          ]
        }
      ]
    },
    {
      "cell_type": "code",
      "source": [
        "# 6.Demonstrate runtime polymorphism using a method play() in a base class Instrument. Derive classes Guitar\n",
        "# and Piano that implement their own version of play().\n",
        "class Instrument:\n",
        "    def play(self):\n",
        "        print(\"Playing an instrument.\")\n",
        "\n",
        "\n",
        "class Guitar(Instrument):\n",
        "    def play(self):\n",
        "        print(\"Strumming the guitar.\")\n",
        "\n",
        "\n",
        "class Piano(Instrument):\n",
        "    def play(self):\n",
        "        print(\"Playing the piano keys.\")\n",
        "\n",
        "\n",
        "def start_playing(instrument):\n",
        "    instrument.play()\n",
        "\n",
        "\n",
        "instruments = [Guitar(), Piano()]\n",
        "\n",
        "for inst in instruments:\n",
        "    start_playing(inst)"
      ],
      "metadata": {
        "colab": {
          "base_uri": "https://localhost:8080/"
        },
        "id": "uBx0j-q_Td2F",
        "outputId": "5621091a-a7e9-4210-ecfb-5d7542374993"
      },
      "execution_count": null,
      "outputs": [
        {
          "output_type": "stream",
          "name": "stdout",
          "text": [
            "Strumming the guitar.\n",
            "Playing the piano keys.\n"
          ]
        }
      ]
    },
    {
      "cell_type": "code",
      "source": [
        "# 7.Create a class MathOperations with a class method add_numbers() to add two numbers and a static\n",
        "# method subtract_numbers() to subtract two numbers\n",
        "\n",
        "class MathOperations:\n",
        "  @classmethod\n",
        "  def add_numbers(cls,x,y):\n",
        "    return x + y\n",
        "\n",
        "  @staticmethod\n",
        "  def subtract_numbers(x,y):\n",
        "    return x - y\n",
        "\n",
        "print(MathOperations.add_numbers(10,20))\n",
        "print(MathOperations.subtract_numbers(10,20))"
      ],
      "metadata": {
        "colab": {
          "base_uri": "https://localhost:8080/"
        },
        "id": "1Mf2DcqhT-wF",
        "outputId": "bec19b59-78d4-449d-b69a-9e26143cf0e2"
      },
      "execution_count": null,
      "outputs": [
        {
          "output_type": "stream",
          "name": "stdout",
          "text": [
            "30\n",
            "-10\n"
          ]
        }
      ]
    },
    {
      "cell_type": "code",
      "source": [
        "# 8.Implement a class Person with a class method to count the total number of persons created.\n",
        "\n",
        "class Person:\n",
        "  count = 0\n",
        "  def __init__(self,name,age):\n",
        "    self.name = name\n",
        "    self.age = age\n",
        "    Person.count += 1\n",
        "\n",
        "  @classmethod\n",
        "  def total_count(cls):\n",
        "    return cls.count\n",
        "\n",
        "\n",
        "p1 = Person(\"Soumya\",25)\n",
        "p2 = Person(\"Ritik\",24)\n",
        "p3 = Person(\"Debasish\",35)\n",
        "\n",
        "print(f\"Total number of persons created: {Person.total_count()}\")"
      ],
      "metadata": {
        "colab": {
          "base_uri": "https://localhost:8080/"
        },
        "id": "Qi__EKT_U6Vs",
        "outputId": "08ba2e56-5d78-4c1d-daef-378941732b09"
      },
      "execution_count": null,
      "outputs": [
        {
          "output_type": "stream",
          "name": "stdout",
          "text": [
            "Total number of persons created: 3\n"
          ]
        }
      ]
    },
    {
      "cell_type": "code",
      "source": [
        "# 9.Write a class Fraction with attributes numerator and denominator. Override the str method to display the\n",
        "# fraction as \"numerator/denominator\".\n",
        "class Fraction:\n",
        "    def __init__(self, numerator, denominator):\n",
        "        if denominator == 0:\n",
        "            raise ValueError(\"Denominator cannot be zero.\")\n",
        "        self.numerator = numerator\n",
        "        self.denominator = denominator\n",
        "\n",
        "    def __str__(self):\n",
        "        return f\"{self.numerator}/{self.denominator}\"\n",
        "\n",
        "\n",
        "f1 = Fraction(3, 4)\n",
        "f2 = Fraction(5, 8)\n",
        "\n",
        "print(f1)\n",
        "print(f2)"
      ],
      "metadata": {
        "colab": {
          "base_uri": "https://localhost:8080/"
        },
        "id": "BfSiygcDWDFk",
        "outputId": "63bdb938-46e9-418b-fb02-bd5b93c19330"
      },
      "execution_count": null,
      "outputs": [
        {
          "output_type": "stream",
          "name": "stdout",
          "text": [
            "3/4\n",
            "5/8\n"
          ]
        }
      ]
    },
    {
      "cell_type": "code",
      "source": [
        "# 10. Demonstrate operator overloading by creating a class Vector and overriding the add method to add two\n",
        "# vectors.\n",
        "\n",
        "class Vector:\n",
        "    def __init__(self, x, y):\n",
        "        self.x = x\n",
        "        self.y = y\n",
        "\n",
        "    # Overload the + operator\n",
        "    def __add__(self, other):\n",
        "        return Vector(self.x + other.x, self.y + other.y)\n",
        "\n",
        "    # String representation for printing\n",
        "    def __str__(self):\n",
        "        return f\"({self.x}, {self.y})\"\n",
        "\n",
        "\n",
        "v1 = Vector(2, 3)\n",
        "v2 = Vector(4, 5)\n",
        "\n",
        "v3 = v1 + v2\n",
        "print(f\"v1 + v2 = {v3}\")"
      ],
      "metadata": {
        "colab": {
          "base_uri": "https://localhost:8080/"
        },
        "id": "6f6LcdHuWZ4V",
        "outputId": "f65585bd-0e27-4fbc-a5db-62ea05dbf649"
      },
      "execution_count": null,
      "outputs": [
        {
          "output_type": "stream",
          "name": "stdout",
          "text": [
            "v1 + v2 = (6, 8)\n"
          ]
        }
      ]
    },
    {
      "cell_type": "code",
      "source": [
        "# 11. Create a class Person with attributes name and age. Add a method greet() that prints \"Hello, my name is\n",
        "# {name} and I am {age} years old.\"\n",
        "\n",
        "class Person:\n",
        "  def __init__(self,name,age):\n",
        "    self.name = name\n",
        "    self.age = age\n",
        "\n",
        "  def greet(self):\n",
        "      print(f\"Hello, my name is {self.name} and I am {self.age} years old\")\n",
        "\n",
        "p1 = Person(\"Soumya\",25)\n",
        "p1.greet()"
      ],
      "metadata": {
        "colab": {
          "base_uri": "https://localhost:8080/"
        },
        "id": "qCg4qx4FXG1d",
        "outputId": "fd25ba01-c4b5-44c8-8545-3edfa1813dfb"
      },
      "execution_count": null,
      "outputs": [
        {
          "output_type": "stream",
          "name": "stdout",
          "text": [
            "Hello, my name is Soumya and I am 25 years old\n"
          ]
        }
      ]
    },
    {
      "cell_type": "code",
      "source": [
        "# 12.Implement a class Student with attributes name and grades. Create a method average_grade() to compute\n",
        "# the average of the grades.\n",
        "\n",
        "class Student:\n",
        "  def __init__(self,name,grades):\n",
        "    self.name = name\n",
        "    self.grades = grades\n",
        "\n",
        "  def average_grade(self):\n",
        "    return sum(self.grades) / len(self.grades)\n",
        "\n",
        "  def __str__(self):\n",
        "     return f\"Student Name: {self.name}, Average Grade: {self.average_grade()}\"\n",
        "\n",
        "stud1 = Student(\"Soumya\",[65,85,75])\n",
        "stud2 = Student(\"Ritik\",[75,85,95])\n",
        "\n",
        "print(stud1)\n",
        "print(stud2)"
      ],
      "metadata": {
        "colab": {
          "base_uri": "https://localhost:8080/"
        },
        "id": "GQ_XsQxRXsE-",
        "outputId": "69837bba-3ece-4e1e-980e-0130b34e161b"
      },
      "execution_count": null,
      "outputs": [
        {
          "output_type": "stream",
          "name": "stdout",
          "text": [
            "Student Name: Soumya, Average Grade: 75.0\n",
            "Student Name: Ritik, Average Grade: 85.0\n"
          ]
        }
      ]
    },
    {
      "cell_type": "code",
      "source": [
        "# 13. Create a class Rectangle with methods set_dimensions() to set the dimensions and area() to calculate the\n",
        "# area.\n",
        "\n",
        "class Rectangle:\n",
        "  def __init__(self,length,width):\n",
        "    self.length = length\n",
        "    self.width = width\n",
        "\n",
        "  def set_dimensions(self,length_val,width_val):\n",
        "    if length_val > 0 and width_val > 0:\n",
        "      self.length = length_val\n",
        "      self.width = width_val\n",
        "    else:\n",
        "      print(\"Please enter valid length & width\")\n",
        "\n",
        "  def area(self):\n",
        "    return f\"area of the reactangle having length:{self.length} & width:{self.width} = {self.length * self.width}\"\n",
        "\n",
        "r1 = Rectangle(10,20)\n",
        "print(r1.area())\n",
        "r1.set_dimensions(20,30)\n",
        "print(r1.area())"
      ],
      "metadata": {
        "colab": {
          "base_uri": "https://localhost:8080/"
        },
        "id": "sKBixHPUY0kO",
        "outputId": "3a782325-8b7c-4581-af36-9dff75abddb4"
      },
      "execution_count": null,
      "outputs": [
        {
          "output_type": "stream",
          "name": "stdout",
          "text": [
            "area of the reactangle having length:10 & width:20 = 200\n",
            "area of the reactangle having length:20 & width:30 = 600\n"
          ]
        }
      ]
    },
    {
      "cell_type": "code",
      "source": [
        "# 14. Create a class Employee with a method calculate_salary() that computes the salary based on hours worked\n",
        "# and hourly rate. Create a derived class Manager that adds a bonus to the salary\n",
        "\n",
        "class Employee:\n",
        "    def __init__(self, name, hours_worked, hourly_rate):\n",
        "        self.name = name\n",
        "        self.hours_worked = hours_worked\n",
        "        self.hourly_rate = hourly_rate\n",
        "\n",
        "    def calculate_salary(self):\n",
        "        return self.hours_worked * self.hourly_rate\n",
        "\n",
        "\n",
        "class Manager(Employee):\n",
        "    def __init__(self, name, hours_worked, hourly_rate, bonus):\n",
        "        super().__init__(name, hours_worked, hourly_rate)\n",
        "        self.bonus = bonus\n",
        "\n",
        "    def calculate_salary(self):\n",
        "        base_salary = super().calculate_salary()\n",
        "        return base_salary + self.bonus\n",
        "\n",
        "\n",
        "e1 = Employee(\"Soumya\", 39, 20)\n",
        "m1 = Manager(\"Ritik\", 40, 30, 500)\n",
        "\n",
        "print(f\"{e1.name}'s Salary: ${e1.calculate_salary()}\")\n",
        "print(f\"{m1.name}'s Salary (with bonus): ${m1.calculate_salary()}\")"
      ],
      "metadata": {
        "colab": {
          "base_uri": "https://localhost:8080/"
        },
        "id": "oVxh_-nZZsnm",
        "outputId": "98c0eb01-3507-46fb-90e5-03d48f355df1"
      },
      "execution_count": null,
      "outputs": [
        {
          "output_type": "stream",
          "name": "stdout",
          "text": [
            "Soumya's Salary: $780\n",
            "Ritik's Salary (with bonus): $1700\n"
          ]
        }
      ]
    },
    {
      "cell_type": "code",
      "source": [
        "# 15.  Create a class Product with attributes name, price, and quantity. Implement a method total_price() that\n",
        "# calculates the total price of the product\n",
        "class Product:\n",
        "  def __init__(self,name,price,quantity):\n",
        "    self.name = name\n",
        "    self.price = price\n",
        "    self.quantity = quantity\n",
        "\n",
        "  def total_price(self):\n",
        "    return self.price * self.quantity\n",
        "\n",
        "  def __str__(self):\n",
        "    return f\"Total price of {self.name} with quantity:{self.quantity} = {self.total_price()}\"\n",
        "\n",
        "\n",
        "product1 = Product(\"Iphone-12\",48900,2)\n",
        "print(product1)"
      ],
      "metadata": {
        "colab": {
          "base_uri": "https://localhost:8080/"
        },
        "id": "SMtm--YWbOGX",
        "outputId": "435dcad8-f0e3-4999-e9db-0ccc7d842411"
      },
      "execution_count": null,
      "outputs": [
        {
          "output_type": "stream",
          "name": "stdout",
          "text": [
            "Total price of Iphone-12 with quantity:2 = 97800\n"
          ]
        }
      ]
    },
    {
      "cell_type": "code",
      "source": [
        "# 16.Create a class Animal with an abstract method sound(). Create two derived classes Cow and Sheep that\n",
        "# implement the sound() method.\n",
        "from abc import ABC, abstractmethod\n",
        "\n",
        "\n",
        "class Animal(ABC):\n",
        "    @abstractmethod\n",
        "    def sound(self):\n",
        "        pass\n",
        "\n",
        "\n",
        "class Cow(Animal):\n",
        "    def sound(self):\n",
        "        return \"🐮Cow Sound : Moo\"\n",
        "\n",
        "\n",
        "class Sheep(Animal):\n",
        "    def sound(self):\n",
        "        return \"🐏Sheep Sound : Mainnn\"\n",
        "\n",
        "# Usage\n",
        "animals = [Cow(), Sheep()]\n",
        "\n",
        "for animal in animals:\n",
        "    print(f\"{animal.__class__.__name__} makes sound: {animal.sound()}\")\n"
      ],
      "metadata": {
        "colab": {
          "base_uri": "https://localhost:8080/"
        },
        "id": "bmWK7c7JcNYY",
        "outputId": "beeead2b-cf58-4616-f164-59d4f3f4bd60"
      },
      "execution_count": null,
      "outputs": [
        {
          "output_type": "stream",
          "name": "stdout",
          "text": [
            "Cow makes sound: 🐮Cow Sound : Moo\n",
            "Sheep makes sound: 🐏Sheep Sound : Mainnn\n"
          ]
        }
      ]
    },
    {
      "cell_type": "markdown",
      "source": [],
      "metadata": {
        "id": "o8ai2tp_OXsX"
      }
    },
    {
      "cell_type": "code",
      "source": [
        "# 17.Create a class Book with attributes title, author, and year_published. Add a method get_book_info() that\n",
        "# returns a formatted string with the book's details\n",
        "class Book:\n",
        "    def __init__(self, title, author, year_published):\n",
        "        self.title = title\n",
        "        self.author = author\n",
        "        self.year_published = year_published\n",
        "\n",
        "    def get_book_info(self):\n",
        "        return f\"'{self.title}' by {self.author} (Published in {self.year_published})\"\n",
        "\n",
        "\n",
        "book1 = Book(\"Autobiography of a Yogi\", \"Paramahansa Yogananda\", 1946)\n",
        "book2 = Book(\"Adhyatmikta\", \"Rajarshi Ranjan Nandy\", 2023)\n",
        "\n",
        "print(book1.get_book_info())\n",
        "print(book2.get_book_info())\n"
      ],
      "metadata": {
        "colab": {
          "base_uri": "https://localhost:8080/"
        },
        "id": "tm2VC5T-cppP",
        "outputId": "16d5a3e4-688f-428e-e466-32c334f94981"
      },
      "execution_count": null,
      "outputs": [
        {
          "output_type": "stream",
          "name": "stdout",
          "text": [
            "'Autobiography of a Yogi' by Paramahansa Yogananda (Published in 1946)\n",
            "'Adhyatmikta' by Rajarshi Ranjan Nandy (Published in 2023)\n"
          ]
        }
      ]
    },
    {
      "cell_type": "code",
      "source": [
        "# 18.Create a class House with attributes address and price. Create a derived class Mansion that adds an\n",
        "# attribute number_of_rooms\n",
        "\n",
        "\n",
        "class House:\n",
        "    def __init__(self, address, price):\n",
        "        self.address = address\n",
        "        self.price = price\n",
        "\n",
        "    def get_info(self):\n",
        "        return f\"Address: {self.address}, Price: ${self.price}\"\n",
        "\n",
        "\n",
        "class Mansion(House):\n",
        "    def __init__(self, address, price, number_of_rooms):\n",
        "        super().__init__(address, price)\n",
        "        self.number_of_rooms = number_of_rooms\n",
        "\n",
        "    def get_info(self):\n",
        "        return f\"{super().get_info()}, Number of Rooms: {self.number_of_rooms}\"\n",
        "\n",
        "\n",
        "h1 = House(\"123 Main Street\", 250000)\n",
        "m1 = Mansion(\"456 Luxury Blvd\", 1500000, 10)\n",
        "\n",
        "print(h1.get_info())\n",
        "print(m1.get_info())\n"
      ],
      "metadata": {
        "colab": {
          "base_uri": "https://localhost:8080/"
        },
        "id": "ve-kFYnMdkaB",
        "outputId": "979d8327-1502-4134-b558-55310e746e83"
      },
      "execution_count": null,
      "outputs": [
        {
          "output_type": "stream",
          "name": "stdout",
          "text": [
            "Address: 123 Main Street, Price: $250000\n",
            "Address: 456 Luxury Blvd, Price: $1500000, Number of Rooms: 10\n"
          ]
        }
      ]
    },
    {
      "cell_type": "code",
      "source": [],
      "metadata": {
        "id": "645X9E_0dM-5"
      },
      "execution_count": null,
      "outputs": []
    }
  ]
}